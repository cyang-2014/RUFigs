{
 "cells": [
  {
   "cell_type": "markdown",
   "metadata": {},
   "source": [
    "## Real-time selective sequencing using nanopore technology. Figures and Analysis"
   ]
  },
  {
   "cell_type": "markdown",
   "metadata": {},
   "source": [
    "### Introduction\n",
    "\n",
    "Figure S2\n",
    "\n",
    "This jupyter notebook requires the R kernel. \n",
    "\n",
    "Each figure from the manuscript \"Real-time seletive sequencing using nanopore technology\" is reproduced in this notebook. Figures are presented by panel and in the order in which they are considered in the manuscript."
   ]
  },
  {
   "cell_type": "code",
   "execution_count": 1,
   "metadata": {
    "collapsed": true
   },
   "outputs": [],
   "source": [
    "library(ggplot2)\n",
    "library(\"gridExtra\")\n",
    "library(\"plyr\")"
   ]
  },
  {
   "cell_type": "markdown",
   "metadata": {},
   "source": [
    "### Figure S2 - Investigating the ability of DTW to place reads with respect to a reference."
   ]
  },
  {
   "cell_type": "code",
   "execution_count": 9,
   "metadata": {
    "collapsed": false
   },
   "outputs": [
    {
     "ename": "ERROR",
     "evalue": "Error in eval(expr, envir, enclos): object 'winSz' not found\n",
     "output_type": "error",
     "traceback": [
      "Error in eval(expr, envir, enclos): object 'winSz' not found\n"
     ]
    }
   ],
   "source": [
    "fname = 'data/figs2/out.txt'\n",
    "\n",
    "par(mfrow=c(4,2))\n",
    "\n",
    "#summary(a)\n",
    "titles =   c( 'Lambda Synthetic Reads' , 'Lambda Amp3 Reads RU21' )\n",
    "\n",
    "normText = c(\"Un-normalised\", \"Normalised\")\n",
    "\n",
    "letters = c(\"A\", \"B\", \"C\", \"D\", \"E\", \"F\", \"G\", \"H\")\n",
    "\n",
    "a<-read.table(file=fname, sep=',', header=F)\n",
    "\n",
    "\n",
    "colnames(a) <- c(\n",
    "\"ReadFolder\", \"Normalise\", \"Chapter\", \"File\", \"Amplicon\"\n",
    "        , \"winSz\", \"Len\", \"qrySz\", \"Offset\"\n",
    "        , \"Read\", \"Ref\", \"Time_t\", \"trg\", \"Pos\", \"outBy\", \"read_t_Success\"\n",
    "        , \"Read_\", \"Ref_\", \"Time_c\", \"trg_\", \"Pos_\", \"outBy\", \"read_c_Success_\"\n",
    "        , \"dim\", \"quasi2d\"\n",
    "        )\n",
    "\n",
    "a$Time <- a$Time_t + a$Time_c\n",
    "a$ReadFolder <- factor(a$ReadFolder)\n",
    "a$Normalise <- factor(a$Normalise)\n",
    "folders = rev(levels(a$ReadFolder))\n",
    "normalisations = levels(a$Normalise)\n",
    "j=1\n",
    "for (n in normalisations) {\n",
    "for (f in folders) {\n",
    "\n",
    "\n",
    "folderNum = which(folders == f)\n",
    "normNum = which(normalisations == n)\n",
    "b <- a[ a$ReadFolder == f & a$Normalise == n & a$read_t_Success==' True', ]\n",
    "\n",
    "#print(f)\n",
    "\n",
    "if (f==\"synthetic\") numReads=100 else numReads=48\n",
    "#print(numReads)\n",
    "\n",
    "#attach(b)\n",
    "#summary(b)\n",
    "x0 <- xtabs(~winSz+Read+Ref+winSz)\n",
    "#print(x0)\n",
    "\n",
    "\n",
    "\n",
    "\n",
    "ftable(x0, col.vars=c(2,3))\n",
    "\n",
    "\n",
    "xc <- xtabs(~winSz) \n",
    "#print(xc)\n",
    "\n",
    "xt <- xtabs(Time~winSz)\n",
    "#print(xt)\n",
    "m <- as.matrix(t(xc))/numReads*100\n",
    "#print(m)\n",
    "txt <- paste( letters[j], \") \", titles[folderNum], \", \", normText[normNum], sep=\"\" )\n",
    "#print(txt)\n",
    "barplot(m, ylim=c(0,110), col='grey',ylab='Aligned Reads (%)', xlab='Window Size', main=txt)\n",
    "grid()\n",
    "j=j+1\n",
    "\n",
    "m <- as.matrix(t(xt))\n",
    "#barplot(m, plot=F)\n",
    "#txt <- paste( letters[j], titles[folderNum], normText[normNum], sep=\": \" )\n",
    "txt <- paste( letters[j], \") \", titles[folderNum], \", \", normText[normNum], sep=\"\" )\n",
    "#print(txt)\n",
    "barplot(m, col='grey',ylab='Time (seconds)', xlab='Window Size', main=txt)\n",
    "grid()\n",
    "j=j+1\n",
    "\n",
    "}}"
   ]
  }
 ],
 "metadata": {
  "kernelspec": {
   "display_name": "R",
   "language": "R",
   "name": "ir"
  },
  "language_info": {
   "codemirror_mode": "r",
   "file_extension": ".r",
   "mimetype": "text/x-r-source",
   "name": "R",
   "pygments_lexer": "r",
   "version": "3.2.3"
  }
 },
 "nbformat": 4,
 "nbformat_minor": 0
}
