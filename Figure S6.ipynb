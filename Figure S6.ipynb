{
 "cells": [
  {
   "cell_type": "markdown",
   "metadata": {},
   "source": [
    "# Figure S6\n",
    "\n",
    "Illustrative diagrams for genome reduction for amplicon read until experiments.\n",
    "\n",
    "![Illustrative diagrams for genome reduction for amplicon read until experiments.](data/img/FigureS6.png \"Read Until\")\n",
    "\n",
    "Note how the total genome search space can be reduced by windowing around the primer sites on the appropriate strands. In this illustration, a 19kb Ebola genome with a search space of 38,000 events can be reduced to 19,000 events."
   ]
  },
  {
   "cell_type": "code",
   "execution_count": null,
   "metadata": {
    "collapsed": true
   },
   "outputs": [],
   "source": []
  }
 ],
 "metadata": {
  "kernelspec": {
   "display_name": "R",
   "language": "R",
   "name": "ir"
  },
  "language_info": {
   "codemirror_mode": "r",
   "file_extension": ".r",
   "mimetype": "text/x-r-source",
   "name": "R",
   "pygments_lexer": "r",
   "version": "3.2.3"
  }
 },
 "nbformat": 4,
 "nbformat_minor": 0
}
